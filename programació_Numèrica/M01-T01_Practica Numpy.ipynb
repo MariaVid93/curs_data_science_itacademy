{
 "cells": [
  {
   "cell_type": "code",
   "execution_count": null,
   "id": "62f69c3f",
   "metadata": {},
   "outputs": [],
   "source": [
    "#M01-T01:Pràctica amb programació numèrica NumPy"
   ]
  },
  {
   "cell_type": "code",
   "execution_count": 69,
   "id": "0840959c",
   "metadata": {},
   "outputs": [],
   "source": [
    "#Importamos módulo de numpy y math\n",
    "import numpy as np\n",
    "import math"
   ]
  },
  {
   "cell_type": "code",
   "execution_count": 77,
   "id": "a0b57a83",
   "metadata": {},
   "outputs": [],
   "source": [
    "# Exercici1-Crea una funció que donat un Array d’una dimensió, et faci un resum estadístic bàsic de les dades. \n",
    "# Si detecta que l’array té més d’una dimensió, ha de mostrar un missatge d’error \n",
    "\n",
    "def statistical_summary(array):\n",
    "    if array.ndim == 1: #Check para comprobar que tiene solo 1D.\n",
    "        average =np.mean(array)\n",
    "        median= np.median(array)\n",
    "        IQR =np.percentile(array,75) - np.percentile(array,25) #interquantile range = percentil3º-percentil1º\n",
    "        standard_deviation = np.std(array)\n",
    "        \n",
    "        print(f\"\"\"Statistical summary:\\n Average: {average}\\n Median: {median}\\n Standard deviation: {standard_deviation}\\n IQR: {IQR}\"\"\")\n",
    "        \n",
    "    else:\n",
    "        raise print(\"The array must be 1 dimensional\") #Raise error si el input no es una array de 1D"
   ]
  },
  {
   "cell_type": "code",
   "execution_count": 78,
   "id": "b953d72a",
   "metadata": {},
   "outputs": [
    {
     "name": "stdout",
     "output_type": "stream",
     "text": [
      "Statistical summary:\n",
      " Average: 11.25\n",
      " Median: 4.5\n",
      " Standard deviation: 13.790848414800301\n",
      " IQR: 9.25\n"
     ]
    }
   ],
   "source": [
    "statistical_summary (np.array([1,4,5,35]))"
   ]
  },
  {
   "cell_type": "code",
   "execution_count": 49,
   "id": "d51c5f4d",
   "metadata": {},
   "outputs": [],
   "source": [
    "#Exercici2- Crea una funció que et generi un quadrat NxN de nombres aleatoris entre el 0 i el 100.\n",
    "\n",
    "def randomMatrix(n):\n",
    "    return np.random.randint(100,size=(n,n))\n",
    "    "
   ]
  },
  {
   "cell_type": "code",
   "execution_count": 50,
   "id": "3f1fad56",
   "metadata": {},
   "outputs": [
    {
     "data": {
      "text/plain": [
       "array([[82, 44, 33,  7, 45],\n",
       "       [40, 42, 44, 21, 59],\n",
       "       [25, 79, 43, 49, 29],\n",
       "       [88, 74,  4, 43, 55],\n",
       "       [ 3, 25, 62, 50, 84]])"
      ]
     },
     "execution_count": 50,
     "metadata": {},
     "output_type": "execute_result"
    }
   ],
   "source": [
    "randomMatrix(5)"
   ]
  },
  {
   "cell_type": "code",
   "execution_count": 79,
   "id": "eb655e62",
   "metadata": {},
   "outputs": [],
   "source": [
    "# Crea una funció que donada una taula de dues dimensions, et calculi els totals per fila i els totals per columna\n",
    "\n",
    "def sum_table(array):\n",
    "    nrows= len(array) #numero de filas\n",
    "    #Creamos 2 listas (filas y columnas) para almacenar los totales\n",
    "    rows=[]\n",
    "    columns=[]\n",
    "    \n",
    "    for i in range(nrows):\n",
    "        rows.append(array[i].sum()) #para cada fila sumamos los elementos \n",
    "        \n",
    "    for j in range (len(array[0])): #para iterar sobre las columnas miramos cuantas columnas tienen el input.\n",
    "        aux_sum=0 #creamos una variable para ir sumando los elementos de cada columna.\n",
    "        for i in range(nrows):\n",
    "            aux_sum +=array[i,j]\n",
    "        columns.append(aux_sum) #cada suma de cada columna la almacenamos en la lista \"columns\"\n",
    "        \n",
    "    print(f\"\"\"Total por filas:{rows}\\n Total por columnas:{columns}\"\"\")     \n"
   ]
  },
  {
   "cell_type": "code",
   "execution_count": 80,
   "id": "e322388b",
   "metadata": {},
   "outputs": [
    {
     "name": "stdout",
     "output_type": "stream",
     "text": [
      "Total por filas:[6, 15]\n",
      " Total por columnas:[5, 7, 9]\n"
     ]
    }
   ],
   "source": [
    "sum_table(np.array([[1,2,3],[4,5,6]]))"
   ]
  },
  {
   "cell_type": "code",
   "execution_count": 81,
   "id": "e684aa38",
   "metadata": {},
   "outputs": [],
   "source": [
    "#Implementa manualment una funció que calculi el coeficient de correlació. Informa’t-en sobre els seus usos i interpretació.\n",
    "\n",
    "def coef_corr(a_array,b_array):\n",
    "    # La formula del coeficiente de correlacion es la covarianza entre a y b divido entre el producto de sus desviaciones típicas\n",
    "    n_array = len(a_array) #la longuitud de ambos arrays sera la misma asique calculo la del array a. \n",
    "    \n",
    "    #Calculamos la media de ambos arrays\n",
    "    a_media= np.mean(a_array) \n",
    "    b_media= np.mean(b_array)\n",
    "    \n",
    "    #Desv. tipica (sd) = raiz cuadrada de la varianza, creamos funcion que nos calcule la varianza\n",
    "    #Varianza (var)= sumatorio de los cuadrados de los elementos entre nºelementos menos la media al cuadrado\n",
    "    def varianza (array):\n",
    "        aux_sum=0 #variable para ir sumando los cuadrados de los elementos\n",
    "        n= len(array)\n",
    "        media= np.mean(array)\n",
    "        for i in range(n):\n",
    "            aux_sum += array[i]**2\n",
    "        return ((aux_sum/n) - (media**2))\n",
    "    #Calculamos la varianza de ambos inputs.\n",
    "    a_var= varianza(a_array)\n",
    "    b_var= varianza(b_array)\n",
    "    \n",
    "    #Calculamos la desviacion tipica\n",
    "    a_sd = math.sqrt(a_var)\n",
    "    b_sd = math.sqrt(b_var)\n",
    "    \n",
    "    #Covarianza = el sumatorio del producto de los elementos de ambos arrays entre nºelementos menos el producto de las desviaciones típicas\n",
    "    prod_variables = np.multiply(a_array,b_array) #multiplicamos variables\n",
    "    sum_prod_variables=np.sum(prod_variables) #sumamos el producto de variables\n",
    "    \n",
    "    covarianza = (sum_prod_variables/n_array)- (a_media*b_media)\n",
    "    \n",
    "    return ((covarianza)/(a_sd*b_sd))\n"
   ]
  },
  {
   "cell_type": "code",
   "execution_count": 82,
   "id": "93021ad9",
   "metadata": {},
   "outputs": [
    {
     "data": {
      "text/plain": [
       "0.7186856975714404"
      ]
     },
     "execution_count": 82,
     "metadata": {},
     "output_type": "execute_result"
    }
   ],
   "source": [
    "x = np.array ([6,4,8,9,4,8,10,9,5,6])\n",
    "y = np.array ([5,5,7,5,3,8,10,8,7,6])\n",
    "\n",
    "coef_corr(x,y)\n",
    "\n",
    "#Resultado = 0.72 --> las variables estan relacionadas positivamente y la dependencia es bastante fuerte porque se aproxima a 1."
   ]
  }
 ],
 "metadata": {
  "kernelspec": {
   "display_name": "Python 3 (ipykernel)",
   "language": "python",
   "name": "python3"
  },
  "language_info": {
   "codemirror_mode": {
    "name": "ipython",
    "version": 3
   },
   "file_extension": ".py",
   "mimetype": "text/x-python",
   "name": "python",
   "nbconvert_exporter": "python",
   "pygments_lexer": "ipython3",
   "version": "3.9.6"
  }
 },
 "nbformat": 4,
 "nbformat_minor": 5
}
