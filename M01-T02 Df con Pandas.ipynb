{
 "cells": [
  {
   "cell_type": "code",
   "execution_count": 1,
   "id": "b9d9860b",
   "metadata": {},
   "outputs": [],
   "source": [
    "#M01-T02: Exploració i estructura de les dades - Dataframes amb Pandas"
   ]
  },
  {
   "cell_type": "code",
   "execution_count": 2,
   "id": "dc9a6f19",
   "metadata": {},
   "outputs": [],
   "source": [
    "#Importamos módulo\n",
    "import pandas as pd\n",
    "import numpy as np"
   ]
  },
  {
   "cell_type": "code",
   "execution_count": 3,
   "id": "37b83ba6",
   "metadata": {},
   "outputs": [],
   "source": [
    "#Exercisi 1- Descarrega el data set Airlines Delay: Airline on-time statistics and delay causes i carrega’l a un pandas Dataframe. \n",
    "#Explora les dades que conté, i queda’t únicament amb les columnes que consideris rellevants.\n",
    "\n",
    "#Importamos archivo csv a una dataframe\n",
    "df= pd.read_csv('DelayedFlights.csv', index_col=0) #Designamos la primera columna como un indice"
   ]
  },
  {
   "cell_type": "code",
   "execution_count": 4,
   "id": "c50b7825",
   "metadata": {},
   "outputs": [
    {
     "name": "stdout",
     "output_type": "stream",
     "text": [
      "   Year  Month  DayofMonth  DayOfWeek  DepTime  CRSDepTime  ArrTime  \\\n",
      "0  2008      1           3          4   2003.0        1955   2211.0   \n",
      "1  2008      1           3          4    754.0         735   1002.0   \n",
      "2  2008      1           3          4    628.0         620    804.0   \n",
      "4  2008      1           3          4   1829.0        1755   1959.0   \n",
      "5  2008      1           3          4   1940.0        1915   2121.0   \n",
      "\n",
      "   CRSArrTime UniqueCarrier  FlightNum  ... TaxiIn  TaxiOut  Cancelled  \\\n",
      "0        2225            WN        335  ...    4.0      8.0          0   \n",
      "1        1000            WN       3231  ...    5.0     10.0          0   \n",
      "2         750            WN        448  ...    3.0     17.0          0   \n",
      "4        1925            WN       3920  ...    3.0     10.0          0   \n",
      "5        2110            WN        378  ...    4.0     10.0          0   \n",
      "\n",
      "   CancellationCode  Diverted  CarrierDelay WeatherDelay NASDelay  \\\n",
      "0                 N         0           NaN          NaN      NaN   \n",
      "1                 N         0           NaN          NaN      NaN   \n",
      "2                 N         0           NaN          NaN      NaN   \n",
      "4                 N         0           2.0          0.0      0.0   \n",
      "5                 N         0           NaN          NaN      NaN   \n",
      "\n",
      "   SecurityDelay  LateAircraftDelay  \n",
      "0            NaN                NaN  \n",
      "1            NaN                NaN  \n",
      "2            NaN                NaN  \n",
      "4            0.0               32.0  \n",
      "5            NaN                NaN  \n",
      "\n",
      "[5 rows x 29 columns]\n",
      "<class 'pandas.core.frame.DataFrame'>\n",
      "Int64Index: 1936758 entries, 0 to 7009727\n",
      "Data columns (total 29 columns):\n",
      " #   Column             Dtype  \n",
      "---  ------             -----  \n",
      " 0   Year               int64  \n",
      " 1   Month              int64  \n",
      " 2   DayofMonth         int64  \n",
      " 3   DayOfWeek          int64  \n",
      " 4   DepTime            float64\n",
      " 5   CRSDepTime         int64  \n",
      " 6   ArrTime            float64\n",
      " 7   CRSArrTime         int64  \n",
      " 8   UniqueCarrier      object \n",
      " 9   FlightNum          int64  \n",
      " 10  TailNum            object \n",
      " 11  ActualElapsedTime  float64\n",
      " 12  CRSElapsedTime     float64\n",
      " 13  AirTime            float64\n",
      " 14  ArrDelay           float64\n",
      " 15  DepDelay           float64\n",
      " 16  Origin             object \n",
      " 17  Dest               object \n",
      " 18  Distance           int64  \n",
      " 19  TaxiIn             float64\n",
      " 20  TaxiOut            float64\n",
      " 21  Cancelled          int64  \n",
      " 22  CancellationCode   object \n",
      " 23  Diverted           int64  \n",
      " 24  CarrierDelay       float64\n",
      " 25  WeatherDelay       float64\n",
      " 26  NASDelay           float64\n",
      " 27  SecurityDelay      float64\n",
      " 28  LateAircraftDelay  float64\n",
      "dtypes: float64(14), int64(10), object(5)\n",
      "memory usage: 443.3+ MB\n",
      "None\n",
      "(1936758, 29)\n"
     ]
    }
   ],
   "source": [
    "print(df.head()) #print de unas filas para tener una referencia visual\n",
    "print(df.info()) #print de informacion básica\n",
    "print(df.shape) #1936758 filas y 29 columnas"
   ]
  },
  {
   "cell_type": "code",
   "execution_count": 5,
   "id": "006e238d",
   "metadata": {},
   "outputs": [
    {
     "name": "stdout",
     "output_type": "stream",
     "text": [
      "(1936756, 30)\n"
     ]
    }
   ],
   "source": [
    "#Check filas duplicadas:\n",
    "temp_df= df.append(df) #duplicamos df agregándolo a él mismo\n",
    "temp_df=temp_df.drop_duplicates().reset_index() #eliminamos duplicados\n",
    "print(temp_df.shape) #Miramos cuantas filas hay-->1.936.756, 2 filas menos que la df original.\n"
   ]
  },
  {
   "cell_type": "code",
   "execution_count": 6,
   "id": "d1f3b176",
   "metadata": {},
   "outputs": [
    {
     "name": "stdout",
     "output_type": "stream",
     "text": [
      "[2008]\n",
      "   Month UniqueCarrier  AirTime  ArrDelay  DepDelay Origin Dest  Distance  \\\n",
      "0      1            WN    116.0     -14.0       8.0    IAD  TPA       810   \n",
      "1      1            WN    113.0       2.0      19.0    IAD  TPA       810   \n",
      "2      1            WN     76.0      14.0       8.0    IND  BWI       515   \n",
      "3      1            WN     77.0      34.0      34.0    IND  BWI       515   \n",
      "4      1            WN     87.0      11.0      25.0    IND  JAX       688   \n",
      "\n",
      "   Cancelled  Diverted  \n",
      "0          0         0  \n",
      "1          0         0  \n",
      "2          0         0  \n",
      "3          0         0  \n",
      "4          0         0  \n"
     ]
    }
   ],
   "source": [
    "print(df['Year'].unique()) #Todos los datos son del 2008 asique no nos hace falta esta columna\n",
    "\n",
    "#Nueva df con las columnas relevantes\n",
    "df_new= temp_df[['Month','UniqueCarrier','AirTime','ArrDelay','DepDelay','Origin','Dest','Distance','Cancelled','Diverted']]\n",
    "print(df_new.head())"
   ]
  },
  {
   "cell_type": "code",
   "execution_count": 7,
   "id": "60a0f948",
   "metadata": {},
   "outputs": [
    {
     "name": "stdout",
     "output_type": "stream",
     "text": [
      "              Month       AirTime      ArrDelay      DepDelay      Distance  \\\n",
      "count  1.936756e+06  1.928369e+06  1.928369e+06  1.936756e+06  1.936756e+06   \n",
      "mean   6.111111e+00  1.082772e+02  4.219988e+01  4.318517e+01  7.656863e+02   \n",
      "std    3.482546e+00  6.864264e+01  5.678474e+01  5.340253e+01  5.744799e+02   \n",
      "min    1.000000e+00  0.000000e+00 -1.090000e+02  6.000000e+00  1.100000e+01   \n",
      "25%    3.000000e+00  5.800000e+01  9.000000e+00  1.200000e+01  3.380000e+02   \n",
      "50%    6.000000e+00  9.000000e+01  2.400000e+01  2.400000e+01  6.060000e+02   \n",
      "75%    9.000000e+00  1.370000e+02  5.600000e+01  5.300000e+01  9.980000e+02   \n",
      "max    1.200000e+01  1.091000e+03  2.461000e+03  2.467000e+03  4.962000e+03   \n",
      "\n",
      "          Cancelled      Diverted  \n",
      "count  1.936756e+06  1.936756e+06  \n",
      "mean   3.268352e-04  4.003602e-03  \n",
      "std    1.807563e-02  6.314725e-02  \n",
      "min    0.000000e+00  0.000000e+00  \n",
      "25%    0.000000e+00  0.000000e+00  \n",
      "50%    0.000000e+00  0.000000e+00  \n",
      "75%    0.000000e+00  0.000000e+00  \n",
      "max    1.000000e+00  1.000000e+00  \n"
     ]
    },
    {
     "data": {
      "text/plain": [
       "count     1936756\n",
       "unique         20\n",
       "top            WN\n",
       "freq       377602\n",
       "Name: UniqueCarrier, dtype: object"
      ]
     },
     "execution_count": 7,
     "metadata": {},
     "output_type": "execute_result"
    }
   ],
   "source": [
    "#Exercisi2-Fes un informe complet del data set:.\n",
    "\n",
    "#A)Resumeix estadísticament les columnes d’interès\n",
    "print(df_new.describe()) #resumen estadístico de las variables continuas\n",
    "\n",
    "#Variables categóricas= UniqueCarrier, Origin, Dest.\n",
    "df_new['UniqueCarrier'].describe() #20 carriers diferentes (top:WN)"
   ]
  },
  {
   "cell_type": "code",
   "execution_count": 12,
   "id": "4312bfab",
   "metadata": {},
   "outputs": [
    {
     "name": "stdout",
     "output_type": "stream",
     "text": [
      "Month               0\n",
      "UniqueCarrier       0\n",
      "AirTime          8387\n",
      "ArrDelay         8387\n",
      "DepDelay            0\n",
      "Origin              0\n",
      "Dest                0\n",
      "Distance            0\n",
      "Cancelled           0\n",
      "Diverted            0\n",
      "dtype: int64\n",
      "8387\n",
      "index            0\n",
      "Month            0\n",
      "UniqueCarrier    0\n",
      "AirTime          0\n",
      "ArrDelay         0\n",
      "DepDelay         0\n",
      "Origin           0\n",
      "Dest             0\n",
      "Distance         0\n",
      "Cancelled        0\n",
      "Diverted         0\n",
      "dtype: int64\n"
     ]
    }
   ],
   "source": [
    "#Troba quantes dades faltants hi ha per columna\n",
    "\n",
    "print(df_new.isnull().sum())\n",
    "\n",
    "#8387 filas sin Airtime ni ArrDelay == nº vuelos Cancelados + nºvuelos Desviados--> eliminaremos estas filas porque no son relevantes para calcular vuelos retrasados\n",
    "print(df_new['Cancelled'].sum()+df_new['Diverted'].sum())\n",
    "\n",
    "Canc_dev_idx=df_new[(df_new['Cancelled']==1) | (df_new['Diverted']==1)].index #Buscamos el índice de las filas con vuelos cancelados o desviados\n",
    "df_new2=df_new.drop(Canc_dev_idx).reset_index() #Eliminamos estas filas\n",
    "\n",
    "print(df_new2.isnull().sum()) #La nueva df sin vuelos cancelados/desviados no tiene null en Airtime/Arr.delay"
   ]
  },
  {
   "cell_type": "code",
   "execution_count": 9,
   "id": "cecbe6d0",
   "metadata": {},
   "outputs": [
    {
     "name": "stdout",
     "output_type": "stream",
     "text": [
      "           index  Month UniqueCarrier  AirTime  ArrDelay  DepDelay Origin  \\\n",
      "0              0      1            WN    116.0     -14.0       8.0    IAD   \n",
      "1              1      1            WN    113.0       2.0      19.0    IAD   \n",
      "2              2      1            WN     76.0      14.0       8.0    IND   \n",
      "3              3      1            WN     77.0      34.0      34.0    IND   \n",
      "4              4      1            WN     87.0      11.0      25.0    IND   \n",
      "...          ...    ...           ...      ...       ...       ...    ...   \n",
      "1928364  1936751     12            DL    120.0      25.0      30.0    MSP   \n",
      "1928365  1936752     12            DL     78.0      75.0      57.0    RIC   \n",
      "1928366  1936753     12            DL    122.0      99.0      80.0    ATL   \n",
      "1928367  1936754     12            DL     89.0       9.0      11.0    IAD   \n",
      "1928368  1936755     12            DL    104.0      -5.0       7.0    SAT   \n",
      "\n",
      "        Dest  Distance  Cancelled  Diverted     Speed  Delayed    Route  \n",
      "0        TPA       810          0         0  6.982759        0  IAD-TPA  \n",
      "1        TPA       810          0         0  7.168142        0  IAD-TPA  \n",
      "2        BWI       515          0         0  6.776316        0  IND-BWI  \n",
      "3        BWI       515          0         0  6.688312        1  IND-BWI  \n",
      "4        JAX       688          0         0  7.908046        0  IND-JAX  \n",
      "...      ...       ...        ...       ...       ...      ...      ...  \n",
      "1928364  ATL       906          0         0  7.550000        1  MSP-ATL  \n",
      "1928365  ATL       481          0         0  6.166667        1  RIC-ATL  \n",
      "1928366  IAH       689          0         0  5.647541        1  ATL-IAH  \n",
      "1928367  ATL       533          0         0  5.988764        0  IAD-ATL  \n",
      "1928368  ATL       874          0         0  8.403846        0  SAT-ATL  \n",
      "\n",
      "[1928369 rows x 14 columns]\n"
     ]
    }
   ],
   "source": [
    "#Crea columnes noves (speed, delayed, ruta origen-destino)\n",
    "\n",
    "#Columna nueva con la velocidad media por vuelo.\n",
    "df_new2['Speed']=df_new2['Distance']/df_new2['AirTime'] \n",
    "\n",
    "#Columna nueva para saber si el vuelo llegó con retraso o no (1=Delayed)\n",
    "def delayed(ArrDelay): #Creamos una funcion que asigna 1 a la columna \"Delayed\" si se retraso al llegar (se considera que los valores negativos significan que llegó antes de lo previsto)\n",
    "    if ArrDelay>15: #Dejaremos 15 de margen para identificar si esta retrasado o no\n",
    "        return 1\n",
    "    else:\n",
    "        return 0\n",
    "\n",
    "df_new2['Delayed']=df_new2['ArrDelay'].apply(delayed)\n",
    "        \n",
    "#Columna nueva que nos indique la ruta del vuelo.\n",
    "df_new2['Route']=df_new2['Origin']+\"-\"+df_new2['Dest'] \n",
    "        \n",
    "print(df_new2)"
   ]
  },
  {
   "cell_type": "code",
   "execution_count": 10,
   "id": "f69edf4f",
   "metadata": {},
   "outputs": [
    {
     "name": "stdout",
     "output_type": "stream",
     "text": [
      "   UniqueCarrier  Delayed   Total\n",
      "0             WN   196424  376201\n",
      "1             AA   129401  190910\n",
      "2             MQ    95126  141223\n",
      "3             UA    93355  140904\n",
      "4             OO    86619  131780\n",
      "5             XE    70455  103147\n",
      "6             DL    70260  113728\n",
      "7             US    57936   98007\n",
      "8             CO    57497   99731\n",
      "9             EV    55483   81762\n",
      "10            NW    53392   78843\n",
      "11            YV    49536   66769\n",
      "12            FL    45738   70969\n",
      "13            OH    38362   52453\n",
      "14            B6    37538   54925\n",
      "15            9E    34836   51569\n",
      "16            AS    23340   39010\n",
      "17            F9    15267   28222\n",
      "18            HA     4124    7472\n",
      "19            AQ      321     744\n",
      "    index UniqueCarrier  Delayed   Total  Delayed(%)\n",
      "0      11            YV    49536   66769   74.190118\n",
      "1      13            OH    38362   52453   73.135950\n",
      "2      14            B6    37538   54925   68.344106\n",
      "3       5            XE    70455  103147   68.305428\n",
      "4       9            EV    55483   81762   67.859152\n",
      "5       1            AA   129401  190910   67.781153\n",
      "6      10            NW    53392   78843   67.719392\n",
      "7      15            9E    34836   51569   67.552212\n",
      "8       2            MQ    95126  141223   67.358716\n",
      "9       3            UA    93355  140904   66.254329\n",
      "10      4            OO    86619  131780   65.730005\n",
      "11     12            FL    45738   70969   64.447858\n",
      "12      6            DL    70260  113728   61.778981\n",
      "13     16            AS    23340   39010   59.830813\n",
      "14      7            US    57936   98007   59.114145\n",
      "15      8            CO    57497   99731   57.652084\n",
      "16     18            HA     4124    7472   55.192719\n",
      "17     17            F9    15267   28222   54.096095\n",
      "18      0            WN   196424  376201   52.212514\n",
      "19     19            AQ      321     744   43.145161\n"
     ]
    }
   ],
   "source": [
    "#Taula de les aerolínies amb més endarreriments acumulats\n",
    "\n",
    "#Creamos una pivot table que nos indique el nºvuelos retrasados y nºvuelos totales.\n",
    "#Para calcular nºvuelos totales contamos cuantos vuelos tenemos.\n",
    "\n",
    "pivot_df= df_new2.pivot_table(index='UniqueCarrier',\n",
    "                              values=[\"Delayed\",\"Month\"],\n",
    "                              aggfunc={'Delayed':np.sum,\n",
    "                                       'Month':'count'}).sort_values(by = ['Delayed'],ascending = False).reset_index()\n",
    "\n",
    "pivot_df=pivot_df.rename(columns={'Month':'Total'})\n",
    "\n",
    "print(pivot_df) #WN es la aerolínea con más vuelos retrasados pero tambien es la que más vuelos realiza.\n",
    "\n",
    "#Creamos una nueva columna que nos diga el % de vuelos retrasados por aerolínea\n",
    "\n",
    "pivot_df['Delayed(%)']=((pivot_df['Delayed']/pivot_df['Total'])*100 )\n",
    "\n",
    "Delay_carrier=pivot_df.sort_values(by=['Delayed(%)'],ascending=False).reset_index() \n",
    "\n",
    "print(Delay_carrier) #El 74% de los vuelos de YV llegan con retraso.\n"
   ]
  },
  {
   "cell_type": "code",
   "execution_count": 11,
   "id": "219045aa",
   "metadata": {},
   "outputs": [
    {
     "name": "stdout",
     "output_type": "stream",
     "text": [
      "Route\n",
      "LAX-SFO    3221\n",
      "ORD-LGA    3206\n",
      "SFO-LAX    2779\n",
      "ATL-LGA    2722\n",
      "LGA-ORD    2598\n",
      "           ... \n",
      "BZN-DTW       0\n",
      "SCE-CVG       0\n",
      "MKE-SLC       0\n",
      "ATL-TUP       0\n",
      "LEX-CLE       0\n",
      "Name: Delayed, Length: 5127, dtype: int64\n",
      "Route\n",
      "EWR-HNL    607.475472\n",
      "ATL-HNL    552.555556\n",
      "HNL-EWR    544.087719\n",
      "ORD-HNL    517.135922\n",
      "ORD-OGG    502.040541\n",
      "              ...    \n",
      "WRG-PSG     11.918367\n",
      "SJC-SFO     11.000000\n",
      "IAD-DCA     11.000000\n",
      "HPN-EWR     11.000000\n",
      "IAH-HOU     10.000000\n",
      "Name: AirTime, Length: 5127, dtype: float64\n"
     ]
    }
   ],
   "source": [
    "#Quins són els vols més llargs? I els més endarrerits? \n",
    "\n",
    "#¿Qúe ruta tiene más retrasos?\n",
    "Route_Delay=df_new2.groupby(['Route'])['Delayed'].sum().sort_values(ascending=False) #Agrupamos por ruta la suma de vuelos retrasados.\n",
    "print(Route_Delay)\n",
    "#Vuelos con más retrasos: LAX-SFO, ORD-LGA,SFO-LAX\n",
    "\n",
    "#¿Cuales son los vuelos más largos?\n",
    "Route_AirTime=df_new2.groupby(['Route'])['AirTime'].mean().sort_values(ascending=False) #Agrupamos por ruta la media de tiempo de vuelo de cada ruta\n",
    "print(Route_AirTime)\n",
    "#Vuelos más largos de media: EWR-HNL, ATL-HNL, HNL-EWR\n"
   ]
  }
 ],
 "metadata": {
  "kernelspec": {
   "display_name": "Python 3 (ipykernel)",
   "language": "python",
   "name": "python3"
  },
  "language_info": {
   "codemirror_mode": {
    "name": "ipython",
    "version": 3
   },
   "file_extension": ".py",
   "mimetype": "text/x-python",
   "name": "python",
   "nbconvert_exporter": "python",
   "pygments_lexer": "ipython3",
   "version": "3.9.6"
  }
 },
 "nbformat": 4,
 "nbformat_minor": 5
}
